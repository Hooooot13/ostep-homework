{
 "cells": [
  {
   "cell_type": "markdown",
   "id": "99446244",
   "metadata": {},
   "source": [
    "# Q1\n",
    "Run process-run.py with the following flags: `-l 5:100,5:100`.\n",
    "- What should the CPU utilization be (e.g., the percent of time the CPU is in use?)? \n",
    "- Why do you know this? \n",
    "- Use the -c and -p flags to see if you were right."
   ]
  },
  {
   "cell_type": "code",
   "execution_count": 5,
   "id": "6f53c05e",
   "metadata": {},
   "outputs": [
    {
     "name": "stdout",
     "output_type": "stream",
     "text": [
      "Produce a trace of what would happen when you run these processes:\n",
      "Process 0\n",
      "  cpu\n",
      "  cpu\n",
      "  cpu\n",
      "  cpu\n",
      "  cpu\n",
      "\n",
      "Process 1\n",
      "  cpu\n",
      "  cpu\n",
      "  cpu\n",
      "  cpu\n",
      "  cpu\n",
      "\n",
      "Important behaviors:\n",
      "  System will switch when the current process is FINISHED or ISSUES AN IO\n",
      "  After IOs, the process issuing the IO will run LATER (when it is its turn)\n",
      "\n"
     ]
    }
   ],
   "source": [
    "%run process-run.py -l 5:100,5:100"
   ]
  },
  {
   "cell_type": "markdown",
   "id": "42537144",
   "metadata": {},
   "source": [
    "- Here cpu ussage whould be 100%\n",
    "- The CPU is never not it use. Process 0 will run until it completes or is killed and the Process 1 will start to run after that. There is no I/O and so there us no reason for either process to be blocked at all"
   ]
  },
  {
   "cell_type": "code",
   "execution_count": 10,
   "id": "77e28501",
   "metadata": {},
   "outputs": [
    {
     "name": "stdout",
     "output_type": "stream",
     "text": [
      "Time        PID: 0        PID: 1           CPU           IOs\n",
      "  1        RUN:cpu         READY             1          \n",
      "  2        RUN:cpu         READY             1          \n",
      "  3        RUN:cpu         READY             1          \n",
      "  4        RUN:cpu         READY             1          \n",
      "  5        RUN:cpu         READY             1          \n",
      "  6           DONE       RUN:cpu             1          \n",
      "  7           DONE       RUN:cpu             1          \n",
      "  8           DONE       RUN:cpu             1          \n",
      "  9           DONE       RUN:cpu             1          \n",
      " 10           DONE       RUN:cpu             1          \n",
      "\n",
      "Stats: Total Time 10\n",
      "Stats: CPU Busy 10 (100.00%)\n",
      "Stats: IO Busy  0 (0.00%)\n",
      "\n"
     ]
    }
   ],
   "source": [
    "%run process-run.py -cp -l 5:100,5:100"
   ]
  },
  {
   "cell_type": "markdown",
   "id": "ffa06cbb",
   "metadata": {},
   "source": [
    "# Q2\n",
    "Now run with these flags: ./process-run.py -l 4:100,1:0. These flags specify one process with 4 instructions (all to use the CPU), and one that simply issues an I/O and waits for it to be done.\n",
    "\n",
    "- How long does it take to complete both processes? \n",
    "- Use -c and -p to find out if you were right."
   ]
  },
  {
   "cell_type": "code",
   "execution_count": 11,
   "id": "ac4a9db1",
   "metadata": {},
   "outputs": [
    {
     "name": "stdout",
     "output_type": "stream",
     "text": [
      "Produce a trace of what would happen when you run these processes:\n",
      "Process 0\n",
      "  cpu\n",
      "  cpu\n",
      "  cpu\n",
      "  cpu\n",
      "\n",
      "Process 1\n",
      "  io\n",
      "  io_done\n",
      "\n",
      "Important behaviors:\n",
      "  System will switch when the current process is FINISHED or ISSUES AN IO\n",
      "  After IOs, the process issuing the IO will run LATER (when it is its turn)\n",
      "\n"
     ]
    }
   ],
   "source": [
    "%run process-run.py -l 4:100,1:0"
   ]
  },
  {
   "cell_type": "markdown",
   "id": "8860ad51",
   "metadata": {},
   "source": [
    "- I belive process 0 will be executed first and so the total type will be 6 ticks. 4 ticks using the cpu 1 tick to make the I/O call and 1 tick to return."
   ]
  },
  {
   "cell_type": "code",
   "execution_count": 12,
   "id": "88325b46",
   "metadata": {},
   "outputs": [
    {
     "name": "stdout",
     "output_type": "stream",
     "text": [
      "Time        PID: 0        PID: 1           CPU           IOs\n",
      "  1        RUN:cpu         READY             1          \n",
      "  2        RUN:cpu         READY             1          \n",
      "  3        RUN:cpu         READY             1          \n",
      "  4        RUN:cpu         READY             1          \n",
      "  5           DONE        RUN:io             1          \n",
      "  6           DONE       BLOCKED                           1\n",
      "  7           DONE       BLOCKED                           1\n",
      "  8           DONE       BLOCKED                           1\n",
      "  9           DONE       BLOCKED                           1\n",
      " 10           DONE       BLOCKED                           1\n",
      " 11*          DONE   RUN:io_done             1          \n",
      "\n",
      "Stats: Total Time 11\n",
      "Stats: CPU Busy 6 (54.55%)\n",
      "Stats: IO Busy  5 (45.45%)\n",
      "\n"
     ]
    }
   ],
   "source": [
    "%run process-run.py -cp -l 4:100,1:0"
   ]
  },
  {
   "cell_type": "markdown",
   "id": "238d4683",
   "metadata": {},
   "source": [
    "- LOL okay I missed in the readme where it said the defailt I/O time is 5 ticks. That makes since though. That makes since though because otherwise the I/O process will never be blocked and this question would make no since. Anyway except for the timing my basic prediction was correct. Process 0 executed first while Process 1 was scheduled. After Process 0 completed then process 1 started running, and took six ticks to complete.\n",
    "- Take not that the CPU utilization is pretty low in this case"
   ]
  },
  {
   "cell_type": "markdown",
   "id": "7463e672",
   "metadata": {},
   "source": [
    "# Q3\n",
    "Switch the order of the processes: -l 1:0,4:100. \n",
    "- What happens now?\n",
    "- Does switching the order matter?\n",
    "- Why? \n",
    "- (As always, use -c and -p to see if you were right)"
   ]
  },
  {
   "cell_type": "code",
   "execution_count": 13,
   "id": "df1629b2",
   "metadata": {},
   "outputs": [
    {
     "name": "stdout",
     "output_type": "stream",
     "text": [
      "Produce a trace of what would happen when you run these processes:\n",
      "Process 0\n",
      "  io\n",
      "  io_done\n",
      "\n",
      "Process 1\n",
      "  cpu\n",
      "  cpu\n",
      "  cpu\n",
      "  cpu\n",
      "\n",
      "Important behaviors:\n",
      "  System will switch when the current process is FINISHED or ISSUES AN IO\n",
      "  After IOs, the process issuing the IO will run LATER (when it is its turn)\n",
      "\n"
     ]
    }
   ],
   "source": [
    "%run process-run.py -l 1:0,4:100"
   ]
  },
  {
   "cell_type": "markdown",
   "id": "e3cdab5b",
   "metadata": {},
   "source": [
    "- Because Process 0 is now an I/O call that occurs first it becomes blocked and the Process 1 will start to run run while Process 0 is blocked. This will result in over all higher CPU utilization and less time required because the CPU won't be sitting waiting for the I/O to return.\n",
    "- Yes the order mattered, although a more sefisticated process manager might have delt with that better\n",
    "- The order mattered because it allowed for the process manager to kick off a time comsumer but CPU light process first and use that extra CPU time to run a more CPU intinsive process lower the overal time required and increasing total resource efficency.\n",
    "\n",
    "- Predictions:\n",
    "    - Total Time      : 7    Ticks\n",
    "    - CPU Utilization : 85.7 %\n",
    "    - I/O Utilization : 71.4 %"
   ]
  },
  {
   "cell_type": "code",
   "execution_count": 14,
   "id": "0a42ca31",
   "metadata": {},
   "outputs": [
    {
     "name": "stdout",
     "output_type": "stream",
     "text": [
      "Time        PID: 0        PID: 1           CPU           IOs\n",
      "  1         RUN:io         READY             1          \n",
      "  2        BLOCKED       RUN:cpu             1             1\n",
      "  3        BLOCKED       RUN:cpu             1             1\n",
      "  4        BLOCKED       RUN:cpu             1             1\n",
      "  5        BLOCKED       RUN:cpu             1             1\n",
      "  6        BLOCKED          DONE                           1\n",
      "  7*   RUN:io_done          DONE             1          \n",
      "\n",
      "Stats: Total Time 7\n",
      "Stats: CPU Busy 6 (85.71%)\n",
      "Stats: IO Busy  5 (71.43%)\n",
      "\n"
     ]
    }
   ],
   "source": [
    "%run process-run.py -cp -l 1:0,4:100"
   ]
  },
  {
   "cell_type": "markdown",
   "id": "f7c4b45c",
   "metadata": {},
   "source": [
    "Nice ( ͡° ͜ʖ ͡°)"
   ]
  },
  {
   "cell_type": "markdown",
   "id": "bf2b3ba2",
   "metadata": {},
   "source": [
    "# Q4\n",
    "We’ll now explore some of the other flags. One important flag is `-S`, which determines how the system reacts when a process issues an I/O. With the flag set to SWITCH_ON_END, the system will NOT switch to another process while one is doing I/O, in stead waiting until the process is completely finished. \n",
    "- What happens when you run the following two processes (`-l 1:0,4:100 -c -S SWITCH_ON_END`), one doing I/O and the other doing CPU work?"
   ]
  },
  {
   "cell_type": "markdown",
   "id": "6476cfb1",
   "metadata": {},
   "source": [
    "- The results wil be identical to the results of Q2 but the process order will be flipped\n",
    "- Predictions:\n",
    "    - Total Time : 11 Ticks\n",
    "    - CPU Utilization : 54.55 %\n",
    "    - I/O Utilization : 45.45 %"
   ]
  },
  {
   "cell_type": "code",
   "execution_count": 17,
   "id": "355860d9",
   "metadata": {},
   "outputs": [
    {
     "name": "stdout",
     "output_type": "stream",
     "text": [
      "Time        PID: 0        PID: 1           CPU           IOs\n",
      "  1         RUN:io         READY             1          \n",
      "  2        BLOCKED         READY                           1\n",
      "  3        BLOCKED         READY                           1\n",
      "  4        BLOCKED         READY                           1\n",
      "  5        BLOCKED         READY                           1\n",
      "  6        BLOCKED         READY                           1\n",
      "  7*   RUN:io_done         READY             1          \n",
      "  8           DONE       RUN:cpu             1          \n",
      "  9           DONE       RUN:cpu             1          \n",
      " 10           DONE       RUN:cpu             1          \n",
      " 11           DONE       RUN:cpu             1          \n",
      "\n",
      "Stats: Total Time 11\n",
      "Stats: CPU Busy 6 (54.55%)\n",
      "Stats: IO Busy  5 (45.45%)\n",
      "\n"
     ]
    }
   ],
   "source": [
    "%run process-run.py -l 1:0,4:100 -cp -S SWITCH_ON_END"
   ]
  },
  {
   "cell_type": "markdown",
   "id": "1d637eb3",
   "metadata": {},
   "source": [
    "# Q5\n",
    "Now, run the same processes, but with the switching behavior set\n",
    "to switch to another process whenever one is WAITING for I/O (`-l\n",
    "1:0,4:100 -c -S SWITCH_ON_IO`). \n",
    "- What happens now? Use -c and -p to confirm that you are right."
   ]
  },
  {
   "cell_type": "markdown",
   "id": "f053d457",
   "metadata": {},
   "source": [
    "- Predictions:\n",
    "    - Total Time      : 7    Ticks\n",
    "    - CPU Utilization : 85.7 %\n",
    "    - I/O Utilization : 71.4 %"
   ]
  },
  {
   "cell_type": "code",
   "execution_count": 18,
   "id": "7b136e1f",
   "metadata": {},
   "outputs": [
    {
     "name": "stdout",
     "output_type": "stream",
     "text": [
      "Time        PID: 0        PID: 1           CPU           IOs\n",
      "  1         RUN:io         READY             1          \n",
      "  2        BLOCKED       RUN:cpu             1             1\n",
      "  3        BLOCKED       RUN:cpu             1             1\n",
      "  4        BLOCKED       RUN:cpu             1             1\n",
      "  5        BLOCKED       RUN:cpu             1             1\n",
      "  6        BLOCKED          DONE                           1\n",
      "  7*   RUN:io_done          DONE             1          \n",
      "\n",
      "Stats: Total Time 7\n",
      "Stats: CPU Busy 6 (85.71%)\n",
      "Stats: IO Busy  5 (71.43%)\n",
      "\n"
     ]
    }
   ],
   "source": [
    "%run process-run.py -l 1:0,4:100 -cp -S SWITCH_ON_IO"
   ]
  },
  {
   "cell_type": "markdown",
   "id": "91cd433b",
   "metadata": {},
   "source": [
    "# Q6\n",
    "One other important behavior is what to do when an I/O completes. With `-I IO_RUN_LATER`, when an I/O completes, the process that issued it is not necessarily run right away; rather, whatever was running at the time keeps running. \n",
    "- What happens when you run this combination of processes? (Run `./process-run.py -l 3:0,5:100,5:100,5:100 -S SWITCH_ON_IO -I IO RUN_LATER -c -p`) \n",
    "- Are system resources being effectively utilized?"
   ]
  },
  {
   "cell_type": "markdown",
   "id": "b435db8c",
   "metadata": {},
   "source": [
    "- Process 0 will run and issue and I/O call then Process 1 will run in full before the process 0 completes the first I/O then the first I/O will complete and a new I/O process will start and Processes 2 and 3 will run in the same fashion\n",
    "- Prediction:\n",
    "    - Total Time      : 21    Ticks\n",
    "    - CPU Utilization : 100 %\n",
    "    - I/O Utilization : 71.4 %"
   ]
  },
  {
   "cell_type": "code",
   "execution_count": 20,
   "id": "40d4bcbb",
   "metadata": {},
   "outputs": [
    {
     "name": "stdout",
     "output_type": "stream",
     "text": [
      "Time        PID: 0        PID: 1        PID: 2        PID: 3           CPU           IOs\n",
      "  1         RUN:io         READY         READY         READY             1          \n",
      "  2        BLOCKED       RUN:cpu         READY         READY             1             1\n",
      "  3        BLOCKED       RUN:cpu         READY         READY             1             1\n",
      "  4        BLOCKED       RUN:cpu         READY         READY             1             1\n",
      "  5        BLOCKED       RUN:cpu         READY         READY             1             1\n",
      "  6        BLOCKED       RUN:cpu         READY         READY             1             1\n",
      "  7*         READY          DONE       RUN:cpu         READY             1          \n",
      "  8          READY          DONE       RUN:cpu         READY             1          \n",
      "  9          READY          DONE       RUN:cpu         READY             1          \n",
      " 10          READY          DONE       RUN:cpu         READY             1          \n",
      " 11          READY          DONE       RUN:cpu         READY             1          \n",
      " 12          READY          DONE          DONE       RUN:cpu             1          \n",
      " 13          READY          DONE          DONE       RUN:cpu             1          \n",
      " 14          READY          DONE          DONE       RUN:cpu             1          \n",
      " 15          READY          DONE          DONE       RUN:cpu             1          \n",
      " 16          READY          DONE          DONE       RUN:cpu             1          \n",
      " 17    RUN:io_done          DONE          DONE          DONE             1          \n",
      " 18         RUN:io          DONE          DONE          DONE             1          \n",
      " 19        BLOCKED          DONE          DONE          DONE                           1\n",
      " 20        BLOCKED          DONE          DONE          DONE                           1\n",
      " 21        BLOCKED          DONE          DONE          DONE                           1\n",
      " 22        BLOCKED          DONE          DONE          DONE                           1\n",
      " 23        BLOCKED          DONE          DONE          DONE                           1\n",
      " 24*   RUN:io_done          DONE          DONE          DONE             1          \n",
      " 25         RUN:io          DONE          DONE          DONE             1          \n",
      " 26        BLOCKED          DONE          DONE          DONE                           1\n",
      " 27        BLOCKED          DONE          DONE          DONE                           1\n",
      " 28        BLOCKED          DONE          DONE          DONE                           1\n",
      " 29        BLOCKED          DONE          DONE          DONE                           1\n",
      " 30        BLOCKED          DONE          DONE          DONE                           1\n",
      " 31*   RUN:io_done          DONE          DONE          DONE             1          \n",
      "\n",
      "Stats: Total Time 31\n",
      "Stats: CPU Busy 21 (67.74%)\n",
      "Stats: IO Busy  15 (48.39%)\n",
      "\n"
     ]
    }
   ],
   "source": [
    "%run process-run.py -l 3:0,5:100,5:100,5:100 -S SWITCH_ON_IO -I IO_RUN_LATER -c -p"
   ]
  },
  {
   "cell_type": "markdown",
   "id": "91d5342d",
   "metadata": {},
   "source": [
    "- okay so as soon at Process 0 became blocked then it ran the other 3 processies  then picked Process 0 back up. The reason it did this is because there was no down time between these processies for the I/O call to complete. The flag we set determined this. Because I/O calls are so time consuming it would make more since in this case to do as I described. I missunderstood the description of the flag"
   ]
  },
  {
   "cell_type": "markdown",
   "id": "e19e53d6",
   "metadata": {},
   "source": [
    "# Q7\n",
    "\n",
    "Now run the same processes, but with `-I IO_RUN_IMMEDIATE` set, which immediately runs the process that issued the I/O. \n",
    "- How does this behavior differ? \n",
    "- Why might running a process that just completed an I/O again be a good idea?"
   ]
  },
  {
   "cell_type": "markdown",
   "id": "3ec7bb07",
   "metadata": {},
   "source": [
    "- This will function as I described in the previous question\n",
    "- I am not convivnced that it is always the best policy but in this case it in the right policy becuase the process will definietly be making an I/O call but I think a better policy would be to let any process make it's I/O call without delay (assuming that that resource isn't limited) that would allow for the most CPU utilization.\n",
    "- Predictions:\n",
    "    - Total Time      : 21    Ticks\n",
    "    - CPU Utilization : 100 %\n",
    "    - I/O Utilization : 71.4 %"
   ]
  },
  {
   "cell_type": "code",
   "execution_count": 21,
   "id": "94fb07dd",
   "metadata": {},
   "outputs": [
    {
     "name": "stdout",
     "output_type": "stream",
     "text": [
      "Time        PID: 0        PID: 1        PID: 2        PID: 3           CPU           IOs\n",
      "  1         RUN:io         READY         READY         READY             1          \n",
      "  2        BLOCKED       RUN:cpu         READY         READY             1             1\n",
      "  3        BLOCKED       RUN:cpu         READY         READY             1             1\n",
      "  4        BLOCKED       RUN:cpu         READY         READY             1             1\n",
      "  5        BLOCKED       RUN:cpu         READY         READY             1             1\n",
      "  6        BLOCKED       RUN:cpu         READY         READY             1             1\n",
      "  7*   RUN:io_done          DONE         READY         READY             1          \n",
      "  8         RUN:io          DONE         READY         READY             1          \n",
      "  9        BLOCKED          DONE       RUN:cpu         READY             1             1\n",
      " 10        BLOCKED          DONE       RUN:cpu         READY             1             1\n",
      " 11        BLOCKED          DONE       RUN:cpu         READY             1             1\n",
      " 12        BLOCKED          DONE       RUN:cpu         READY             1             1\n",
      " 13        BLOCKED          DONE       RUN:cpu         READY             1             1\n",
      " 14*   RUN:io_done          DONE          DONE         READY             1          \n",
      " 15         RUN:io          DONE          DONE         READY             1          \n",
      " 16        BLOCKED          DONE          DONE       RUN:cpu             1             1\n",
      " 17        BLOCKED          DONE          DONE       RUN:cpu             1             1\n",
      " 18        BLOCKED          DONE          DONE       RUN:cpu             1             1\n",
      " 19        BLOCKED          DONE          DONE       RUN:cpu             1             1\n",
      " 20        BLOCKED          DONE          DONE       RUN:cpu             1             1\n",
      " 21*   RUN:io_done          DONE          DONE          DONE             1          \n",
      "\n",
      "Stats: Total Time 21\n",
      "Stats: CPU Busy 21 (100.00%)\n",
      "Stats: IO Busy  15 (71.43%)\n",
      "\n"
     ]
    }
   ],
   "source": [
    "%run process-run.py -l 3:0,5:100,5:100,5:100 -S SWITCH_ON_IO -I IO_RUN_IMMEDIATE -c -p"
   ]
  },
  {
   "cell_type": "markdown",
   "id": "e415b50e",
   "metadata": {},
   "source": [
    "# Q8\n",
    "Now run with some randomly generated processes: `-s 1 -l 3:50,3:50`\n",
    "or `-s 2 -l 3:50,3:50` or `-s 3 -l 3:50,3:50`. See if you can\n",
    "predict how the trace will turn out. \n",
    "- What happens when you use the flag `-I IO_RUN_IMMEDIATE` vs. `-I IO_RUN_LATER`? \n",
    "- What happens when you use `-S SWITCH_ON_IO` vs. `-S SWITCH_ON_END`?"
   ]
  },
  {
   "cell_type": "markdown",
   "id": "bb5a1a66",
   "metadata": {},
   "source": [
    "- I think in general the CPU utilization and will be higher and time requiemenet will be lower for the IO_RUN_IMMEDIATE condition.\n",
    "- Similarly I feel that the SWITCH_ON_IO condition will result in generally higher CPU utilization"
   ]
  },
  {
   "cell_type": "code",
   "execution_count": 37,
   "id": "ad0feec0",
   "metadata": {},
   "outputs": [
    {
     "name": "stdout",
     "output_type": "stream",
     "text": [
      "Time        PID: 0        PID: 1           CPU           IOs\n",
      "  1        RUN:cpu         READY             1          \n",
      "  2         RUN:io         READY             1          \n",
      "  3        BLOCKED        RUN:io             1             1\n",
      "  4        BLOCKED       BLOCKED                           2\n",
      "  5        BLOCKED       BLOCKED                           2\n",
      "  6        BLOCKED       BLOCKED                           2\n",
      "  7        BLOCKED       BLOCKED                           2\n",
      "  8*   RUN:io_done       BLOCKED             1             1\n",
      "  9*         READY   RUN:io_done             1          \n",
      " 10          READY        RUN:io             1          \n",
      " 11        RUN:cpu       BLOCKED             1             1\n",
      " 12           DONE       BLOCKED                           1\n",
      " 13           DONE       BLOCKED                           1\n",
      " 14           DONE       BLOCKED                           1\n",
      " 15           DONE       BLOCKED                           1\n",
      " 16*          DONE   RUN:io_done             1          \n",
      " 17           DONE       RUN:cpu             1          \n",
      "\n",
      "Stats: Total Time 17\n",
      "Stats: CPU Busy 9 (52.94%)\n",
      "Stats: IO Busy  11 (64.71%)\n",
      "\n"
     ]
    }
   ],
   "source": [
    "%run process-run.py -s 3 -l 3:50,3:50 -cp -I IO_RUN_IMMEDIATE -S SWITCH_ON_IO"
   ]
  },
  {
   "cell_type": "code",
   "execution_count": 36,
   "id": "78eebc7c",
   "metadata": {},
   "outputs": [
    {
     "name": "stdout",
     "output_type": "stream",
     "text": [
      "Time        PID: 0        PID: 1           CPU           IOs\n",
      "  1        RUN:cpu         READY             1          \n",
      "  2         RUN:io         READY             1          \n",
      "  3        BLOCKED        RUN:io             1             1\n",
      "  4        BLOCKED       BLOCKED                           2\n",
      "  5        BLOCKED       BLOCKED                           2\n",
      "  6        BLOCKED       BLOCKED                           2\n",
      "  7        BLOCKED       BLOCKED                           2\n",
      "  8*   RUN:io_done       BLOCKED             1             1\n",
      "  9*       RUN:cpu         READY             1          \n",
      " 10           DONE   RUN:io_done             1          \n",
      " 11           DONE        RUN:io             1          \n",
      " 12           DONE       BLOCKED                           1\n",
      " 13           DONE       BLOCKED                           1\n",
      " 14           DONE       BLOCKED                           1\n",
      " 15           DONE       BLOCKED                           1\n",
      " 16           DONE       BLOCKED                           1\n",
      " 17*          DONE   RUN:io_done             1          \n",
      " 18           DONE       RUN:cpu             1          \n",
      "\n",
      "Stats: Total Time 18\n",
      "Stats: CPU Busy 9 (50.00%)\n",
      "Stats: IO Busy  11 (61.11%)\n",
      "\n"
     ]
    }
   ],
   "source": [
    "%run process-run.py -s 3 -l 3:50,3:50 -cp -I IO_RUN_LATER -S SWITCH_ON_IO"
   ]
  },
  {
   "cell_type": "code",
   "execution_count": 35,
   "id": "440bc1d9",
   "metadata": {},
   "outputs": [
    {
     "name": "stdout",
     "output_type": "stream",
     "text": [
      "Time        PID: 0        PID: 1           CPU           IOs\n",
      "  1        RUN:cpu         READY             1          \n",
      "  2         RUN:io         READY             1          \n",
      "  3        BLOCKED         READY                           1\n",
      "  4        BLOCKED         READY                           1\n",
      "  5        BLOCKED         READY                           1\n",
      "  6        BLOCKED         READY                           1\n",
      "  7        BLOCKED         READY                           1\n",
      "  8*   RUN:io_done         READY             1          \n",
      "  9        RUN:cpu         READY             1          \n",
      " 10           DONE        RUN:io             1          \n",
      " 11           DONE       BLOCKED                           1\n",
      " 12           DONE       BLOCKED                           1\n",
      " 13           DONE       BLOCKED                           1\n",
      " 14           DONE       BLOCKED                           1\n",
      " 15           DONE       BLOCKED                           1\n",
      " 16*          DONE   RUN:io_done             1          \n",
      " 17           DONE        RUN:io             1          \n",
      " 18           DONE       BLOCKED                           1\n",
      " 19           DONE       BLOCKED                           1\n",
      " 20           DONE       BLOCKED                           1\n",
      " 21           DONE       BLOCKED                           1\n",
      " 22           DONE       BLOCKED                           1\n",
      " 23*          DONE   RUN:io_done             1          \n",
      " 24           DONE       RUN:cpu             1          \n",
      "\n",
      "Stats: Total Time 24\n",
      "Stats: CPU Busy 9 (37.50%)\n",
      "Stats: IO Busy  15 (62.50%)\n",
      "\n"
     ]
    }
   ],
   "source": [
    "%run process-run.py -s 3 -l 3:50,3:50 -cp -I IO_RUN_IMMEDIATE -S SWITCH_ON_END"
   ]
  },
  {
   "cell_type": "code",
   "execution_count": 34,
   "id": "8dcabcab",
   "metadata": {},
   "outputs": [
    {
     "name": "stdout",
     "output_type": "stream",
     "text": [
      "Time        PID: 0        PID: 1           CPU           IOs\n",
      "  1        RUN:cpu         READY             1          \n",
      "  2         RUN:io         READY             1          \n",
      "  3        BLOCKED         READY                           1\n",
      "  4        BLOCKED         READY                           1\n",
      "  5        BLOCKED         READY                           1\n",
      "  6        BLOCKED         READY                           1\n",
      "  7        BLOCKED         READY                           1\n",
      "  8*   RUN:io_done         READY             1          \n",
      "  9        RUN:cpu         READY             1          \n",
      " 10           DONE        RUN:io             1          \n",
      " 11           DONE       BLOCKED                           1\n",
      " 12           DONE       BLOCKED                           1\n",
      " 13           DONE       BLOCKED                           1\n",
      " 14           DONE       BLOCKED                           1\n",
      " 15           DONE       BLOCKED                           1\n",
      " 16*          DONE   RUN:io_done             1          \n",
      " 17           DONE        RUN:io             1          \n",
      " 18           DONE       BLOCKED                           1\n",
      " 19           DONE       BLOCKED                           1\n",
      " 20           DONE       BLOCKED                           1\n",
      " 21           DONE       BLOCKED                           1\n",
      " 22           DONE       BLOCKED                           1\n",
      " 23*          DONE   RUN:io_done             1          \n",
      " 24           DONE       RUN:cpu             1          \n",
      "\n",
      "Stats: Total Time 24\n",
      "Stats: CPU Busy 9 (37.50%)\n",
      "Stats: IO Busy  15 (62.50%)\n",
      "\n"
     ]
    }
   ],
   "source": [
    "%run process-run.py -s 3 -l 3:50,3:50 -cp -I IO_RUN_LATER -S SWITCH_ON_END"
   ]
  },
  {
   "cell_type": "markdown",
   "id": "291a342e",
   "metadata": {},
   "source": []
  }
 ],
 "metadata": {
  "kernelspec": {
   "display_name": "Python 3 (ipykernel)",
   "language": "python",
   "name": "python3"
  },
  "language_info": {
   "codemirror_mode": {
    "name": "ipython",
    "version": 3
   },
   "file_extension": ".py",
   "mimetype": "text/x-python",
   "name": "python",
   "nbconvert_exporter": "python",
   "pygments_lexer": "ipython3",
   "version": "3.10.11"
  }
 },
 "nbformat": 4,
 "nbformat_minor": 5
}
